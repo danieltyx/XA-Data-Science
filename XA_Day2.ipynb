{
  "nbformat": 4,
  "nbformat_minor": 0,
  "metadata": {
    "colab": {
      "name": "XA_Day2.ipynb",
      "provenance": [],
      "collapsed_sections": [],
      "authorship_tag": "ABX9TyOKdkwSsMPu4eFoxig+AeRQ",
      "include_colab_link": true
    },
    "kernelspec": {
      "name": "python3",
      "display_name": "Python 3"
    },
    "language_info": {
      "name": "python"
    }
  },
  "cells": [
    {
      "cell_type": "markdown",
      "metadata": {
        "id": "view-in-github",
        "colab_type": "text"
      },
      "source": [
        "<a href=\"https://colab.research.google.com/github/danieltyx/XA-Data-Science/blob/main/XA_Day2.ipynb\" target=\"_parent\"><img src=\"https://colab.research.google.com/assets/colab-badge.svg\" alt=\"Open In Colab\"/></a>"
      ]
    },
    {
      "cell_type": "markdown",
      "metadata": {
        "id": "EFA88TBjxnK9"
      },
      "source": [
        "# XA Day2 Class notes"
      ]
    },
    {
      "cell_type": "markdown",
      "metadata": {
        "id": "PSDIqSavxilr"
      },
      "source": [
        "### Imports"
      ]
    },
    {
      "cell_type": "code",
      "metadata": {
        "id": "cnrL2i_YwGPf"
      },
      "source": [
        "import numpy as np\n",
        "import pandas as pd\n",
        "import seaborn as sns"
      ],
      "execution_count": 3,
      "outputs": []
    },
    {
      "cell_type": "markdown",
      "metadata": {
        "id": "LTodr7PgyMVC"
      },
      "source": [
        "### Matrix Operations \n"
      ]
    },
    {
      "cell_type": "code",
      "metadata": {
        "id": "OgQXGUWlyPpb"
      },
      "source": [
        "A = np.random.randint(10, size = (5,3))"
      ],
      "execution_count": 41,
      "outputs": []
    },
    {
      "cell_type": "code",
      "metadata": {
        "colab": {
          "base_uri": "https://localhost:8080/"
        },
        "id": "sGhhdf4zzKmZ",
        "outputId": "2149f96b-c4bc-45fa-d203-89c21c77d202"
      },
      "source": [
        "A"
      ],
      "execution_count": 17,
      "outputs": [
        {
          "output_type": "execute_result",
          "data": {
            "text/plain": [
              "array([[1, 4, 8],\n",
              "       [9, 6, 3],\n",
              "       [7, 3, 1],\n",
              "       [6, 4, 8],\n",
              "       [3, 4, 8]])"
            ]
          },
          "metadata": {
            "tags": []
          },
          "execution_count": 17
        }
      ]
    },
    {
      "cell_type": "code",
      "metadata": {
        "colab": {
          "base_uri": "https://localhost:8080/"
        },
        "id": "y5P5kktXycXv",
        "outputId": "62d14454-8920-4d44-f2f2-d77320383d92"
      },
      "source": [
        "A[:4,1:]"
      ],
      "execution_count": 23,
      "outputs": [
        {
          "output_type": "execute_result",
          "data": {
            "text/plain": [
              "array([[4, 8],\n",
              "       [6, 3],\n",
              "       [3, 1],\n",
              "       [4, 8]])"
            ]
          },
          "metadata": {
            "tags": []
          },
          "execution_count": 23
        }
      ]
    },
    {
      "cell_type": "code",
      "metadata": {
        "colab": {
          "base_uri": "https://localhost:8080/"
        },
        "id": "BJY_gqCKzqE9",
        "outputId": "b0e34810-8171-4c8c-fe85-a6cffb5058de"
      },
      "source": [
        "A[:,0:1]"
      ],
      "execution_count": 27,
      "outputs": [
        {
          "output_type": "execute_result",
          "data": {
            "text/plain": [
              "array([[1],\n",
              "       [9],\n",
              "       [7],\n",
              "       [6],\n",
              "       [3]])"
            ]
          },
          "metadata": {
            "tags": []
          },
          "execution_count": 27
        }
      ]
    },
    {
      "cell_type": "code",
      "metadata": {
        "colab": {
          "base_uri": "https://localhost:8080/"
        },
        "id": "6o9RRFxoz6gP",
        "outputId": "2abaa4d7-5c01-4453-d86e-a78a0898e0af"
      },
      "source": [
        "A[-1,:]"
      ],
      "execution_count": 29,
      "outputs": [
        {
          "output_type": "execute_result",
          "data": {
            "text/plain": [
              "array([3, 4, 8])"
            ]
          },
          "metadata": {
            "tags": []
          },
          "execution_count": 29
        }
      ]
    },
    {
      "cell_type": "code",
      "metadata": {
        "id": "5gQpBR8L0Gy9"
      },
      "source": [
        "B = np.random.randint(10,size=(5,3))"
      ],
      "execution_count": 31,
      "outputs": []
    },
    {
      "cell_type": "code",
      "metadata": {
        "colab": {
          "base_uri": "https://localhost:8080/"
        },
        "id": "i7xWli4c0Ugm",
        "outputId": "343c476d-618c-49ce-f2c3-679f970795fc"
      },
      "source": [
        "A"
      ],
      "execution_count": 32,
      "outputs": [
        {
          "output_type": "execute_result",
          "data": {
            "text/plain": [
              "array([[1, 4, 8],\n",
              "       [9, 6, 3],\n",
              "       [7, 3, 1],\n",
              "       [6, 4, 8],\n",
              "       [3, 4, 8]])"
            ]
          },
          "metadata": {
            "tags": []
          },
          "execution_count": 32
        }
      ]
    },
    {
      "cell_type": "code",
      "metadata": {
        "colab": {
          "base_uri": "https://localhost:8080/"
        },
        "id": "Vqeg8R9N0Sdj",
        "outputId": "7f2af7f0-e6a1-468f-a4bf-ff6507478d72"
      },
      "source": [
        "B"
      ],
      "execution_count": 33,
      "outputs": [
        {
          "output_type": "execute_result",
          "data": {
            "text/plain": [
              "array([[7, 5, 1],\n",
              "       [7, 6, 3],\n",
              "       [8, 2, 8],\n",
              "       [9, 0, 7],\n",
              "       [6, 6, 2]])"
            ]
          },
          "metadata": {
            "tags": []
          },
          "execution_count": 33
        }
      ]
    },
    {
      "cell_type": "code",
      "metadata": {
        "colab": {
          "base_uri": "https://localhost:8080/"
        },
        "id": "0s98IChy0V9r",
        "outputId": "a3914e3c-6739-4905-a4a3-55b9706dfe3a"
      },
      "source": [
        "A+B"
      ],
      "execution_count": 34,
      "outputs": [
        {
          "output_type": "execute_result",
          "data": {
            "text/plain": [
              "array([[ 8,  9,  9],\n",
              "       [16, 12,  6],\n",
              "       [15,  5,  9],\n",
              "       [15,  4, 15],\n",
              "       [ 9, 10, 10]])"
            ]
          },
          "metadata": {
            "tags": []
          },
          "execution_count": 34
        }
      ]
    },
    {
      "cell_type": "code",
      "metadata": {
        "colab": {
          "base_uri": "https://localhost:8080/"
        },
        "id": "opJXRAXu0YFN",
        "outputId": "52918011-b310-466d-f7e7-fc5b505d8b2e"
      },
      "source": [
        "A*B"
      ],
      "execution_count": 35,
      "outputs": [
        {
          "output_type": "execute_result",
          "data": {
            "text/plain": [
              "array([[ 7, 20,  8],\n",
              "       [63, 36,  9],\n",
              "       [56,  6,  8],\n",
              "       [54,  0, 56],\n",
              "       [18, 24, 16]])"
            ]
          },
          "metadata": {
            "tags": []
          },
          "execution_count": 35
        }
      ]
    },
    {
      "cell_type": "code",
      "metadata": {
        "colab": {
          "base_uri": "https://localhost:8080/"
        },
        "id": "7bIMvT5O0Y77",
        "outputId": "be69ab47-ada5-42c9-8ddc-564635fc68e5"
      },
      "source": [
        "3 + A"
      ],
      "execution_count": 36,
      "outputs": [
        {
          "output_type": "execute_result",
          "data": {
            "text/plain": [
              "array([[ 4,  7, 11],\n",
              "       [12,  9,  6],\n",
              "       [10,  6,  4],\n",
              "       [ 9,  7, 11],\n",
              "       [ 6,  7, 11]])"
            ]
          },
          "metadata": {
            "tags": []
          },
          "execution_count": 36
        }
      ]
    },
    {
      "cell_type": "code",
      "metadata": {
        "colab": {
          "base_uri": "https://localhost:8080/"
        },
        "id": "sHFXQPca0aOa",
        "outputId": "5a854e5f-be6c-4e0d-812d-ab10359e384a"
      },
      "source": [
        "-A"
      ],
      "execution_count": 37,
      "outputs": [
        {
          "output_type": "execute_result",
          "data": {
            "text/plain": [
              "array([[-1, -4, -8],\n",
              "       [-9, -6, -3],\n",
              "       [-7, -3, -1],\n",
              "       [-6, -4, -8],\n",
              "       [-3, -4, -8]])"
            ]
          },
          "metadata": {
            "tags": []
          },
          "execution_count": 37
        }
      ]
    },
    {
      "cell_type": "code",
      "metadata": {
        "colab": {
          "base_uri": "https://localhost:8080/"
        },
        "id": "1OHyEijz0cbm",
        "outputId": "cc30a3ed-4a50-492a-ab49-238cf03a227a"
      },
      "source": [
        "np.dot(A,B.T)"
      ],
      "execution_count": 43,
      "outputs": [
        {
          "output_type": "execute_result",
          "data": {
            "text/plain": [
              "array([[ 63,  70,  46,  36,  66],\n",
              "       [ 41,  58,  98,  92,  46],\n",
              "       [ 34,  47,  62,  53,  40],\n",
              "       [ 47,  62,  98,  94,  50],\n",
              "       [112, 138, 160, 144, 120]])"
            ]
          },
          "metadata": {
            "tags": []
          },
          "execution_count": 43
        }
      ]
    },
    {
      "cell_type": "code",
      "metadata": {
        "colab": {
          "base_uri": "https://localhost:8080/"
        },
        "id": "XL_PRZ6R0uWS",
        "outputId": "70e2ffed-c55c-48cc-dce7-3974805180b1"
      },
      "source": [
        "np.linalg.inv(np.dot(A.T,A))"
      ],
      "execution_count": 45,
      "outputs": [
        {
          "output_type": "execute_result",
          "data": {
            "text/plain": [
              "array([[ 0.17887307, -0.09683619, -0.08394819],\n",
              "       [-0.09683619,  0.0654971 ,  0.03935806],\n",
              "       [-0.08394819,  0.03935806,  0.04680042]])"
            ]
          },
          "metadata": {
            "tags": []
          },
          "execution_count": 45
        }
      ]
    },
    {
      "cell_type": "code",
      "metadata": {
        "id": "l7c1Alqs1Pmw"
      },
      "source": [
        ""
      ],
      "execution_count": null,
      "outputs": []
    },
    {
      "cell_type": "markdown",
      "metadata": {
        "id": "3HRdYDq21fvI"
      },
      "source": [
        "## Data as Matrics"
      ]
    },
    {
      "cell_type": "code",
      "metadata": {
        "id": "3-NDKaLk1iTV"
      },
      "source": [
        "iris_df = sns.load_dataset(\"iris\")"
      ],
      "execution_count": 46,
      "outputs": []
    },
    {
      "cell_type": "code",
      "metadata": {
        "colab": {
          "base_uri": "https://localhost:8080/",
          "height": 417
        },
        "id": "RTpUY4XQ1lts",
        "outputId": "02d77eff-7303-4b42-b503-5f3ea87102b8"
      },
      "source": [
        "iris_df"
      ],
      "execution_count": 47,
      "outputs": [
        {
          "output_type": "execute_result",
          "data": {
            "text/html": [
              "<div>\n",
              "<style scoped>\n",
              "    .dataframe tbody tr th:only-of-type {\n",
              "        vertical-align: middle;\n",
              "    }\n",
              "\n",
              "    .dataframe tbody tr th {\n",
              "        vertical-align: top;\n",
              "    }\n",
              "\n",
              "    .dataframe thead th {\n",
              "        text-align: right;\n",
              "    }\n",
              "</style>\n",
              "<table border=\"1\" class=\"dataframe\">\n",
              "  <thead>\n",
              "    <tr style=\"text-align: right;\">\n",
              "      <th></th>\n",
              "      <th>sepal_length</th>\n",
              "      <th>sepal_width</th>\n",
              "      <th>petal_length</th>\n",
              "      <th>petal_width</th>\n",
              "      <th>species</th>\n",
              "    </tr>\n",
              "  </thead>\n",
              "  <tbody>\n",
              "    <tr>\n",
              "      <th>0</th>\n",
              "      <td>5.1</td>\n",
              "      <td>3.5</td>\n",
              "      <td>1.4</td>\n",
              "      <td>0.2</td>\n",
              "      <td>setosa</td>\n",
              "    </tr>\n",
              "    <tr>\n",
              "      <th>1</th>\n",
              "      <td>4.9</td>\n",
              "      <td>3.0</td>\n",
              "      <td>1.4</td>\n",
              "      <td>0.2</td>\n",
              "      <td>setosa</td>\n",
              "    </tr>\n",
              "    <tr>\n",
              "      <th>2</th>\n",
              "      <td>4.7</td>\n",
              "      <td>3.2</td>\n",
              "      <td>1.3</td>\n",
              "      <td>0.2</td>\n",
              "      <td>setosa</td>\n",
              "    </tr>\n",
              "    <tr>\n",
              "      <th>3</th>\n",
              "      <td>4.6</td>\n",
              "      <td>3.1</td>\n",
              "      <td>1.5</td>\n",
              "      <td>0.2</td>\n",
              "      <td>setosa</td>\n",
              "    </tr>\n",
              "    <tr>\n",
              "      <th>4</th>\n",
              "      <td>5.0</td>\n",
              "      <td>3.6</td>\n",
              "      <td>1.4</td>\n",
              "      <td>0.2</td>\n",
              "      <td>setosa</td>\n",
              "    </tr>\n",
              "    <tr>\n",
              "      <th>...</th>\n",
              "      <td>...</td>\n",
              "      <td>...</td>\n",
              "      <td>...</td>\n",
              "      <td>...</td>\n",
              "      <td>...</td>\n",
              "    </tr>\n",
              "    <tr>\n",
              "      <th>145</th>\n",
              "      <td>6.7</td>\n",
              "      <td>3.0</td>\n",
              "      <td>5.2</td>\n",
              "      <td>2.3</td>\n",
              "      <td>virginica</td>\n",
              "    </tr>\n",
              "    <tr>\n",
              "      <th>146</th>\n",
              "      <td>6.3</td>\n",
              "      <td>2.5</td>\n",
              "      <td>5.0</td>\n",
              "      <td>1.9</td>\n",
              "      <td>virginica</td>\n",
              "    </tr>\n",
              "    <tr>\n",
              "      <th>147</th>\n",
              "      <td>6.5</td>\n",
              "      <td>3.0</td>\n",
              "      <td>5.2</td>\n",
              "      <td>2.0</td>\n",
              "      <td>virginica</td>\n",
              "    </tr>\n",
              "    <tr>\n",
              "      <th>148</th>\n",
              "      <td>6.2</td>\n",
              "      <td>3.4</td>\n",
              "      <td>5.4</td>\n",
              "      <td>2.3</td>\n",
              "      <td>virginica</td>\n",
              "    </tr>\n",
              "    <tr>\n",
              "      <th>149</th>\n",
              "      <td>5.9</td>\n",
              "      <td>3.0</td>\n",
              "      <td>5.1</td>\n",
              "      <td>1.8</td>\n",
              "      <td>virginica</td>\n",
              "    </tr>\n",
              "  </tbody>\n",
              "</table>\n",
              "<p>150 rows × 5 columns</p>\n",
              "</div>"
            ],
            "text/plain": [
              "     sepal_length  sepal_width  petal_length  petal_width    species\n",
              "0             5.1          3.5           1.4          0.2     setosa\n",
              "1             4.9          3.0           1.4          0.2     setosa\n",
              "2             4.7          3.2           1.3          0.2     setosa\n",
              "3             4.6          3.1           1.5          0.2     setosa\n",
              "4             5.0          3.6           1.4          0.2     setosa\n",
              "..            ...          ...           ...          ...        ...\n",
              "145           6.7          3.0           5.2          2.3  virginica\n",
              "146           6.3          2.5           5.0          1.9  virginica\n",
              "147           6.5          3.0           5.2          2.0  virginica\n",
              "148           6.2          3.4           5.4          2.3  virginica\n",
              "149           5.9          3.0           5.1          1.8  virginica\n",
              "\n",
              "[150 rows x 5 columns]"
            ]
          },
          "metadata": {
            "tags": []
          },
          "execution_count": 47
        }
      ]
    },
    {
      "cell_type": "code",
      "metadata": {
        "colab": {
          "base_uri": "https://localhost:8080/"
        },
        "id": "Fwilw0XV1nQV",
        "outputId": "975403c2-d9b7-48da-ca59-0ab4c0d36acd"
      },
      "source": [
        "iris_ma = iris_df.values\n",
        "iris_ma"
      ],
      "execution_count": 65,
      "outputs": [
        {
          "output_type": "execute_result",
          "data": {
            "text/plain": [
              "array([[5.1, 3.5, 1.4, 0.2, 'setosa'],\n",
              "       [4.9, 3.0, 1.4, 0.2, 'setosa'],\n",
              "       [4.7, 3.2, 1.3, 0.2, 'setosa'],\n",
              "       [4.6, 3.1, 1.5, 0.2, 'setosa'],\n",
              "       [5.0, 3.6, 1.4, 0.2, 'setosa'],\n",
              "       [5.4, 3.9, 1.7, 0.4, 'setosa'],\n",
              "       [4.6, 3.4, 1.4, 0.3, 'setosa'],\n",
              "       [5.0, 3.4, 1.5, 0.2, 'setosa'],\n",
              "       [4.4, 2.9, 1.4, 0.2, 'setosa'],\n",
              "       [4.9, 3.1, 1.5, 0.1, 'setosa'],\n",
              "       [5.4, 3.7, 1.5, 0.2, 'setosa'],\n",
              "       [4.8, 3.4, 1.6, 0.2, 'setosa'],\n",
              "       [4.8, 3.0, 1.4, 0.1, 'setosa'],\n",
              "       [4.3, 3.0, 1.1, 0.1, 'setosa'],\n",
              "       [5.8, 4.0, 1.2, 0.2, 'setosa'],\n",
              "       [5.7, 4.4, 1.5, 0.4, 'setosa'],\n",
              "       [5.4, 3.9, 1.3, 0.4, 'setosa'],\n",
              "       [5.1, 3.5, 1.4, 0.3, 'setosa'],\n",
              "       [5.7, 3.8, 1.7, 0.3, 'setosa'],\n",
              "       [5.1, 3.8, 1.5, 0.3, 'setosa'],\n",
              "       [5.4, 3.4, 1.7, 0.2, 'setosa'],\n",
              "       [5.1, 3.7, 1.5, 0.4, 'setosa'],\n",
              "       [4.6, 3.6, 1.0, 0.2, 'setosa'],\n",
              "       [5.1, 3.3, 1.7, 0.5, 'setosa'],\n",
              "       [4.8, 3.4, 1.9, 0.2, 'setosa'],\n",
              "       [5.0, 3.0, 1.6, 0.2, 'setosa'],\n",
              "       [5.0, 3.4, 1.6, 0.4, 'setosa'],\n",
              "       [5.2, 3.5, 1.5, 0.2, 'setosa'],\n",
              "       [5.2, 3.4, 1.4, 0.2, 'setosa'],\n",
              "       [4.7, 3.2, 1.6, 0.2, 'setosa'],\n",
              "       [4.8, 3.1, 1.6, 0.2, 'setosa'],\n",
              "       [5.4, 3.4, 1.5, 0.4, 'setosa'],\n",
              "       [5.2, 4.1, 1.5, 0.1, 'setosa'],\n",
              "       [5.5, 4.2, 1.4, 0.2, 'setosa'],\n",
              "       [4.9, 3.1, 1.5, 0.2, 'setosa'],\n",
              "       [5.0, 3.2, 1.2, 0.2, 'setosa'],\n",
              "       [5.5, 3.5, 1.3, 0.2, 'setosa'],\n",
              "       [4.9, 3.6, 1.4, 0.1, 'setosa'],\n",
              "       [4.4, 3.0, 1.3, 0.2, 'setosa'],\n",
              "       [5.1, 3.4, 1.5, 0.2, 'setosa'],\n",
              "       [5.0, 3.5, 1.3, 0.3, 'setosa'],\n",
              "       [4.5, 2.3, 1.3, 0.3, 'setosa'],\n",
              "       [4.4, 3.2, 1.3, 0.2, 'setosa'],\n",
              "       [5.0, 3.5, 1.6, 0.6, 'setosa'],\n",
              "       [5.1, 3.8, 1.9, 0.4, 'setosa'],\n",
              "       [4.8, 3.0, 1.4, 0.3, 'setosa'],\n",
              "       [5.1, 3.8, 1.6, 0.2, 'setosa'],\n",
              "       [4.6, 3.2, 1.4, 0.2, 'setosa'],\n",
              "       [5.3, 3.7, 1.5, 0.2, 'setosa'],\n",
              "       [5.0, 3.3, 1.4, 0.2, 'setosa'],\n",
              "       [7.0, 3.2, 4.7, 1.4, 'versicolor'],\n",
              "       [6.4, 3.2, 4.5, 1.5, 'versicolor'],\n",
              "       [6.9, 3.1, 4.9, 1.5, 'versicolor'],\n",
              "       [5.5, 2.3, 4.0, 1.3, 'versicolor'],\n",
              "       [6.5, 2.8, 4.6, 1.5, 'versicolor'],\n",
              "       [5.7, 2.8, 4.5, 1.3, 'versicolor'],\n",
              "       [6.3, 3.3, 4.7, 1.6, 'versicolor'],\n",
              "       [4.9, 2.4, 3.3, 1.0, 'versicolor'],\n",
              "       [6.6, 2.9, 4.6, 1.3, 'versicolor'],\n",
              "       [5.2, 2.7, 3.9, 1.4, 'versicolor'],\n",
              "       [5.0, 2.0, 3.5, 1.0, 'versicolor'],\n",
              "       [5.9, 3.0, 4.2, 1.5, 'versicolor'],\n",
              "       [6.0, 2.2, 4.0, 1.0, 'versicolor'],\n",
              "       [6.1, 2.9, 4.7, 1.4, 'versicolor'],\n",
              "       [5.6, 2.9, 3.6, 1.3, 'versicolor'],\n",
              "       [6.7, 3.1, 4.4, 1.4, 'versicolor'],\n",
              "       [5.6, 3.0, 4.5, 1.5, 'versicolor'],\n",
              "       [5.8, 2.7, 4.1, 1.0, 'versicolor'],\n",
              "       [6.2, 2.2, 4.5, 1.5, 'versicolor'],\n",
              "       [5.6, 2.5, 3.9, 1.1, 'versicolor'],\n",
              "       [5.9, 3.2, 4.8, 1.8, 'versicolor'],\n",
              "       [6.1, 2.8, 4.0, 1.3, 'versicolor'],\n",
              "       [6.3, 2.5, 4.9, 1.5, 'versicolor'],\n",
              "       [6.1, 2.8, 4.7, 1.2, 'versicolor'],\n",
              "       [6.4, 2.9, 4.3, 1.3, 'versicolor'],\n",
              "       [6.6, 3.0, 4.4, 1.4, 'versicolor'],\n",
              "       [6.8, 2.8, 4.8, 1.4, 'versicolor'],\n",
              "       [6.7, 3.0, 5.0, 1.7, 'versicolor'],\n",
              "       [6.0, 2.9, 4.5, 1.5, 'versicolor'],\n",
              "       [5.7, 2.6, 3.5, 1.0, 'versicolor'],\n",
              "       [5.5, 2.4, 3.8, 1.1, 'versicolor'],\n",
              "       [5.5, 2.4, 3.7, 1.0, 'versicolor'],\n",
              "       [5.8, 2.7, 3.9, 1.2, 'versicolor'],\n",
              "       [6.0, 2.7, 5.1, 1.6, 'versicolor'],\n",
              "       [5.4, 3.0, 4.5, 1.5, 'versicolor'],\n",
              "       [6.0, 3.4, 4.5, 1.6, 'versicolor'],\n",
              "       [6.7, 3.1, 4.7, 1.5, 'versicolor'],\n",
              "       [6.3, 2.3, 4.4, 1.3, 'versicolor'],\n",
              "       [5.6, 3.0, 4.1, 1.3, 'versicolor'],\n",
              "       [5.5, 2.5, 4.0, 1.3, 'versicolor'],\n",
              "       [5.5, 2.6, 4.4, 1.2, 'versicolor'],\n",
              "       [6.1, 3.0, 4.6, 1.4, 'versicolor'],\n",
              "       [5.8, 2.6, 4.0, 1.2, 'versicolor'],\n",
              "       [5.0, 2.3, 3.3, 1.0, 'versicolor'],\n",
              "       [5.6, 2.7, 4.2, 1.3, 'versicolor'],\n",
              "       [5.7, 3.0, 4.2, 1.2, 'versicolor'],\n",
              "       [5.7, 2.9, 4.2, 1.3, 'versicolor'],\n",
              "       [6.2, 2.9, 4.3, 1.3, 'versicolor'],\n",
              "       [5.1, 2.5, 3.0, 1.1, 'versicolor'],\n",
              "       [5.7, 2.8, 4.1, 1.3, 'versicolor'],\n",
              "       [6.3, 3.3, 6.0, 2.5, 'virginica'],\n",
              "       [5.8, 2.7, 5.1, 1.9, 'virginica'],\n",
              "       [7.1, 3.0, 5.9, 2.1, 'virginica'],\n",
              "       [6.3, 2.9, 5.6, 1.8, 'virginica'],\n",
              "       [6.5, 3.0, 5.8, 2.2, 'virginica'],\n",
              "       [7.6, 3.0, 6.6, 2.1, 'virginica'],\n",
              "       [4.9, 2.5, 4.5, 1.7, 'virginica'],\n",
              "       [7.3, 2.9, 6.3, 1.8, 'virginica'],\n",
              "       [6.7, 2.5, 5.8, 1.8, 'virginica'],\n",
              "       [7.2, 3.6, 6.1, 2.5, 'virginica'],\n",
              "       [6.5, 3.2, 5.1, 2.0, 'virginica'],\n",
              "       [6.4, 2.7, 5.3, 1.9, 'virginica'],\n",
              "       [6.8, 3.0, 5.5, 2.1, 'virginica'],\n",
              "       [5.7, 2.5, 5.0, 2.0, 'virginica'],\n",
              "       [5.8, 2.8, 5.1, 2.4, 'virginica'],\n",
              "       [6.4, 3.2, 5.3, 2.3, 'virginica'],\n",
              "       [6.5, 3.0, 5.5, 1.8, 'virginica'],\n",
              "       [7.7, 3.8, 6.7, 2.2, 'virginica'],\n",
              "       [7.7, 2.6, 6.9, 2.3, 'virginica'],\n",
              "       [6.0, 2.2, 5.0, 1.5, 'virginica'],\n",
              "       [6.9, 3.2, 5.7, 2.3, 'virginica'],\n",
              "       [5.6, 2.8, 4.9, 2.0, 'virginica'],\n",
              "       [7.7, 2.8, 6.7, 2.0, 'virginica'],\n",
              "       [6.3, 2.7, 4.9, 1.8, 'virginica'],\n",
              "       [6.7, 3.3, 5.7, 2.1, 'virginica'],\n",
              "       [7.2, 3.2, 6.0, 1.8, 'virginica'],\n",
              "       [6.2, 2.8, 4.8, 1.8, 'virginica'],\n",
              "       [6.1, 3.0, 4.9, 1.8, 'virginica'],\n",
              "       [6.4, 2.8, 5.6, 2.1, 'virginica'],\n",
              "       [7.2, 3.0, 5.8, 1.6, 'virginica'],\n",
              "       [7.4, 2.8, 6.1, 1.9, 'virginica'],\n",
              "       [7.9, 3.8, 6.4, 2.0, 'virginica'],\n",
              "       [6.4, 2.8, 5.6, 2.2, 'virginica'],\n",
              "       [6.3, 2.8, 5.1, 1.5, 'virginica'],\n",
              "       [6.1, 2.6, 5.6, 1.4, 'virginica'],\n",
              "       [7.7, 3.0, 6.1, 2.3, 'virginica'],\n",
              "       [6.3, 3.4, 5.6, 2.4, 'virginica'],\n",
              "       [6.4, 3.1, 5.5, 1.8, 'virginica'],\n",
              "       [6.0, 3.0, 4.8, 1.8, 'virginica'],\n",
              "       [6.9, 3.1, 5.4, 2.1, 'virginica'],\n",
              "       [6.7, 3.1, 5.6, 2.4, 'virginica'],\n",
              "       [6.9, 3.1, 5.1, 2.3, 'virginica'],\n",
              "       [5.8, 2.7, 5.1, 1.9, 'virginica'],\n",
              "       [6.8, 3.2, 5.9, 2.3, 'virginica'],\n",
              "       [6.7, 3.3, 5.7, 2.5, 'virginica'],\n",
              "       [6.7, 3.0, 5.2, 2.3, 'virginica'],\n",
              "       [6.3, 2.5, 5.0, 1.9, 'virginica'],\n",
              "       [6.5, 3.0, 5.2, 2.0, 'virginica'],\n",
              "       [6.2, 3.4, 5.4, 2.3, 'virginica'],\n",
              "       [5.9, 3.0, 5.1, 1.8, 'virginica']], dtype=object)"
            ]
          },
          "metadata": {
            "tags": []
          },
          "execution_count": 65
        }
      ]
    },
    {
      "cell_type": "code",
      "metadata": {
        "colab": {
          "base_uri": "https://localhost:8080/"
        },
        "id": "V9q_4O5Z1vvA",
        "outputId": "71a645b6-6051-464e-e6da-32839cdf8465"
      },
      "source": [
        "iris_df.value_counts()"
      ],
      "execution_count": 55,
      "outputs": [
        {
          "output_type": "execute_result",
          "data": {
            "text/plain": [
              "sepal_length  sepal_width  petal_length  petal_width  species   \n",
              "5.8           2.7          5.1           1.9          virginica     2\n",
              "7.9           3.8          6.4           2.0          virginica     1\n",
              "5.4           3.0          4.5           1.5          versicolor    1\n",
              "5.5           2.4          3.7           1.0          versicolor    1\n",
              "              2.3          4.0           1.3          versicolor    1\n",
              "                                                                   ..\n",
              "6.3           2.5          4.9           1.5          versicolor    1\n",
              "              2.3          4.4           1.3          versicolor    1\n",
              "6.2           3.4          5.4           2.3          virginica     1\n",
              "              2.9          4.3           1.3          versicolor    1\n",
              "4.3           3.0          1.1           0.1          setosa        1\n",
              "Length: 149, dtype: int64"
            ]
          },
          "metadata": {
            "tags": []
          },
          "execution_count": 55
        }
      ]
    },
    {
      "cell_type": "code",
      "metadata": {
        "id": "F1cvN8q92X_P"
      },
      "source": [
        "iris_ma[iris_ma == \"setosa\"] = 0\n",
        "iris_ma[iris_ma == \"versicolor\"] = 1\n",
        "iris_ma[iris_ma == \"virginica\"] = 2"
      ],
      "execution_count": 66,
      "outputs": []
    },
    {
      "cell_type": "code",
      "metadata": {
        "colab": {
          "base_uri": "https://localhost:8080/"
        },
        "id": "WbE_AodF27bd",
        "outputId": "856ac6a7-606b-40d5-b4d2-e3642947ff8a"
      },
      "source": [
        "iris_ma"
      ],
      "execution_count": 67,
      "outputs": [
        {
          "output_type": "execute_result",
          "data": {
            "text/plain": [
              "array([[5.1, 3.5, 1.4, 0.2, 0],\n",
              "       [4.9, 3.0, 1.4, 0.2, 0],\n",
              "       [4.7, 3.2, 1.3, 0.2, 0],\n",
              "       [4.6, 3.1, 1.5, 0.2, 0],\n",
              "       [5.0, 3.6, 1.4, 0.2, 0],\n",
              "       [5.4, 3.9, 1.7, 0.4, 0],\n",
              "       [4.6, 3.4, 1.4, 0.3, 0],\n",
              "       [5.0, 3.4, 1.5, 0.2, 0],\n",
              "       [4.4, 2.9, 1.4, 0.2, 0],\n",
              "       [4.9, 3.1, 1.5, 0.1, 0],\n",
              "       [5.4, 3.7, 1.5, 0.2, 0],\n",
              "       [4.8, 3.4, 1.6, 0.2, 0],\n",
              "       [4.8, 3.0, 1.4, 0.1, 0],\n",
              "       [4.3, 3.0, 1.1, 0.1, 0],\n",
              "       [5.8, 4.0, 1.2, 0.2, 0],\n",
              "       [5.7, 4.4, 1.5, 0.4, 0],\n",
              "       [5.4, 3.9, 1.3, 0.4, 0],\n",
              "       [5.1, 3.5, 1.4, 0.3, 0],\n",
              "       [5.7, 3.8, 1.7, 0.3, 0],\n",
              "       [5.1, 3.8, 1.5, 0.3, 0],\n",
              "       [5.4, 3.4, 1.7, 0.2, 0],\n",
              "       [5.1, 3.7, 1.5, 0.4, 0],\n",
              "       [4.6, 3.6, 1.0, 0.2, 0],\n",
              "       [5.1, 3.3, 1.7, 0.5, 0],\n",
              "       [4.8, 3.4, 1.9, 0.2, 0],\n",
              "       [5.0, 3.0, 1.6, 0.2, 0],\n",
              "       [5.0, 3.4, 1.6, 0.4, 0],\n",
              "       [5.2, 3.5, 1.5, 0.2, 0],\n",
              "       [5.2, 3.4, 1.4, 0.2, 0],\n",
              "       [4.7, 3.2, 1.6, 0.2, 0],\n",
              "       [4.8, 3.1, 1.6, 0.2, 0],\n",
              "       [5.4, 3.4, 1.5, 0.4, 0],\n",
              "       [5.2, 4.1, 1.5, 0.1, 0],\n",
              "       [5.5, 4.2, 1.4, 0.2, 0],\n",
              "       [4.9, 3.1, 1.5, 0.2, 0],\n",
              "       [5.0, 3.2, 1.2, 0.2, 0],\n",
              "       [5.5, 3.5, 1.3, 0.2, 0],\n",
              "       [4.9, 3.6, 1.4, 0.1, 0],\n",
              "       [4.4, 3.0, 1.3, 0.2, 0],\n",
              "       [5.1, 3.4, 1.5, 0.2, 0],\n",
              "       [5.0, 3.5, 1.3, 0.3, 0],\n",
              "       [4.5, 2.3, 1.3, 0.3, 0],\n",
              "       [4.4, 3.2, 1.3, 0.2, 0],\n",
              "       [5.0, 3.5, 1.6, 0.6, 0],\n",
              "       [5.1, 3.8, 1.9, 0.4, 0],\n",
              "       [4.8, 3.0, 1.4, 0.3, 0],\n",
              "       [5.1, 3.8, 1.6, 0.2, 0],\n",
              "       [4.6, 3.2, 1.4, 0.2, 0],\n",
              "       [5.3, 3.7, 1.5, 0.2, 0],\n",
              "       [5.0, 3.3, 1.4, 0.2, 0],\n",
              "       [7.0, 3.2, 4.7, 1.4, 1],\n",
              "       [6.4, 3.2, 4.5, 1.5, 1],\n",
              "       [6.9, 3.1, 4.9, 1.5, 1],\n",
              "       [5.5, 2.3, 4.0, 1.3, 1],\n",
              "       [6.5, 2.8, 4.6, 1.5, 1],\n",
              "       [5.7, 2.8, 4.5, 1.3, 1],\n",
              "       [6.3, 3.3, 4.7, 1.6, 1],\n",
              "       [4.9, 2.4, 3.3, 1.0, 1],\n",
              "       [6.6, 2.9, 4.6, 1.3, 1],\n",
              "       [5.2, 2.7, 3.9, 1.4, 1],\n",
              "       [5.0, 2.0, 3.5, 1.0, 1],\n",
              "       [5.9, 3.0, 4.2, 1.5, 1],\n",
              "       [6.0, 2.2, 4.0, 1.0, 1],\n",
              "       [6.1, 2.9, 4.7, 1.4, 1],\n",
              "       [5.6, 2.9, 3.6, 1.3, 1],\n",
              "       [6.7, 3.1, 4.4, 1.4, 1],\n",
              "       [5.6, 3.0, 4.5, 1.5, 1],\n",
              "       [5.8, 2.7, 4.1, 1.0, 1],\n",
              "       [6.2, 2.2, 4.5, 1.5, 1],\n",
              "       [5.6, 2.5, 3.9, 1.1, 1],\n",
              "       [5.9, 3.2, 4.8, 1.8, 1],\n",
              "       [6.1, 2.8, 4.0, 1.3, 1],\n",
              "       [6.3, 2.5, 4.9, 1.5, 1],\n",
              "       [6.1, 2.8, 4.7, 1.2, 1],\n",
              "       [6.4, 2.9, 4.3, 1.3, 1],\n",
              "       [6.6, 3.0, 4.4, 1.4, 1],\n",
              "       [6.8, 2.8, 4.8, 1.4, 1],\n",
              "       [6.7, 3.0, 5.0, 1.7, 1],\n",
              "       [6.0, 2.9, 4.5, 1.5, 1],\n",
              "       [5.7, 2.6, 3.5, 1.0, 1],\n",
              "       [5.5, 2.4, 3.8, 1.1, 1],\n",
              "       [5.5, 2.4, 3.7, 1.0, 1],\n",
              "       [5.8, 2.7, 3.9, 1.2, 1],\n",
              "       [6.0, 2.7, 5.1, 1.6, 1],\n",
              "       [5.4, 3.0, 4.5, 1.5, 1],\n",
              "       [6.0, 3.4, 4.5, 1.6, 1],\n",
              "       [6.7, 3.1, 4.7, 1.5, 1],\n",
              "       [6.3, 2.3, 4.4, 1.3, 1],\n",
              "       [5.6, 3.0, 4.1, 1.3, 1],\n",
              "       [5.5, 2.5, 4.0, 1.3, 1],\n",
              "       [5.5, 2.6, 4.4, 1.2, 1],\n",
              "       [6.1, 3.0, 4.6, 1.4, 1],\n",
              "       [5.8, 2.6, 4.0, 1.2, 1],\n",
              "       [5.0, 2.3, 3.3, 1.0, 1],\n",
              "       [5.6, 2.7, 4.2, 1.3, 1],\n",
              "       [5.7, 3.0, 4.2, 1.2, 1],\n",
              "       [5.7, 2.9, 4.2, 1.3, 1],\n",
              "       [6.2, 2.9, 4.3, 1.3, 1],\n",
              "       [5.1, 2.5, 3.0, 1.1, 1],\n",
              "       [5.7, 2.8, 4.1, 1.3, 1],\n",
              "       [6.3, 3.3, 6.0, 2.5, 2],\n",
              "       [5.8, 2.7, 5.1, 1.9, 2],\n",
              "       [7.1, 3.0, 5.9, 2.1, 2],\n",
              "       [6.3, 2.9, 5.6, 1.8, 2],\n",
              "       [6.5, 3.0, 5.8, 2.2, 2],\n",
              "       [7.6, 3.0, 6.6, 2.1, 2],\n",
              "       [4.9, 2.5, 4.5, 1.7, 2],\n",
              "       [7.3, 2.9, 6.3, 1.8, 2],\n",
              "       [6.7, 2.5, 5.8, 1.8, 2],\n",
              "       [7.2, 3.6, 6.1, 2.5, 2],\n",
              "       [6.5, 3.2, 5.1, 2.0, 2],\n",
              "       [6.4, 2.7, 5.3, 1.9, 2],\n",
              "       [6.8, 3.0, 5.5, 2.1, 2],\n",
              "       [5.7, 2.5, 5.0, 2.0, 2],\n",
              "       [5.8, 2.8, 5.1, 2.4, 2],\n",
              "       [6.4, 3.2, 5.3, 2.3, 2],\n",
              "       [6.5, 3.0, 5.5, 1.8, 2],\n",
              "       [7.7, 3.8, 6.7, 2.2, 2],\n",
              "       [7.7, 2.6, 6.9, 2.3, 2],\n",
              "       [6.0, 2.2, 5.0, 1.5, 2],\n",
              "       [6.9, 3.2, 5.7, 2.3, 2],\n",
              "       [5.6, 2.8, 4.9, 2.0, 2],\n",
              "       [7.7, 2.8, 6.7, 2.0, 2],\n",
              "       [6.3, 2.7, 4.9, 1.8, 2],\n",
              "       [6.7, 3.3, 5.7, 2.1, 2],\n",
              "       [7.2, 3.2, 6.0, 1.8, 2],\n",
              "       [6.2, 2.8, 4.8, 1.8, 2],\n",
              "       [6.1, 3.0, 4.9, 1.8, 2],\n",
              "       [6.4, 2.8, 5.6, 2.1, 2],\n",
              "       [7.2, 3.0, 5.8, 1.6, 2],\n",
              "       [7.4, 2.8, 6.1, 1.9, 2],\n",
              "       [7.9, 3.8, 6.4, 2.0, 2],\n",
              "       [6.4, 2.8, 5.6, 2.2, 2],\n",
              "       [6.3, 2.8, 5.1, 1.5, 2],\n",
              "       [6.1, 2.6, 5.6, 1.4, 2],\n",
              "       [7.7, 3.0, 6.1, 2.3, 2],\n",
              "       [6.3, 3.4, 5.6, 2.4, 2],\n",
              "       [6.4, 3.1, 5.5, 1.8, 2],\n",
              "       [6.0, 3.0, 4.8, 1.8, 2],\n",
              "       [6.9, 3.1, 5.4, 2.1, 2],\n",
              "       [6.7, 3.1, 5.6, 2.4, 2],\n",
              "       [6.9, 3.1, 5.1, 2.3, 2],\n",
              "       [5.8, 2.7, 5.1, 1.9, 2],\n",
              "       [6.8, 3.2, 5.9, 2.3, 2],\n",
              "       [6.7, 3.3, 5.7, 2.5, 2],\n",
              "       [6.7, 3.0, 5.2, 2.3, 2],\n",
              "       [6.3, 2.5, 5.0, 1.9, 2],\n",
              "       [6.5, 3.0, 5.2, 2.0, 2],\n",
              "       [6.2, 3.4, 5.4, 2.3, 2],\n",
              "       [5.9, 3.0, 5.1, 1.8, 2]], dtype=object)"
            ]
          },
          "metadata": {
            "tags": []
          },
          "execution_count": 67
        }
      ]
    },
    {
      "cell_type": "code",
      "metadata": {
        "colab": {
          "base_uri": "https://localhost:8080/"
        },
        "id": "lOvlzSuq3QTB",
        "outputId": "e2f6b181-d95f-409a-b32f-d669a5e99a54"
      },
      "source": [
        "np.unique(iris_ma)"
      ],
      "execution_count": 77,
      "outputs": [
        {
          "output_type": "execute_result",
          "data": {
            "text/plain": [
              "array([0, 0.1, 0.2, 0.3, 0.4, 0.5, 0.6, 1, 1.1, 1.2, 1.3, 1.4, 1.5, 1.6,\n",
              "       1.7, 1.8, 1.9, 2, 2.1, 2.2, 2.3, 2.4, 2.5, 2.6, 2.7, 2.8, 2.9, 3.0,\n",
              "       3.1, 3.2, 3.3, 3.4, 3.5, 3.6, 3.7, 3.8, 3.9, 4.0, 4.1, 4.2, 4.3,\n",
              "       4.4, 4.5, 4.6, 4.7, 4.8, 4.9, 5.0, 5.1, 5.2, 5.3, 5.4, 5.5, 5.6,\n",
              "       5.7, 5.8, 5.9, 6.0, 6.1, 6.2, 6.3, 6.4, 6.5, 6.6, 6.7, 6.8, 6.9,\n",
              "       7.0, 7.1, 7.2, 7.3, 7.4, 7.6, 7.7, 7.9], dtype=object)"
            ]
          },
          "metadata": {
            "tags": []
          },
          "execution_count": 77
        }
      ]
    },
    {
      "cell_type": "code",
      "metadata": {
        "id": "uTeTsQDB4mJn"
      },
      "source": [
        ""
      ],
      "execution_count": null,
      "outputs": []
    },
    {
      "cell_type": "code",
      "metadata": {
        "id": "tdAjRPjI4fjZ"
      },
      "source": [
        ""
      ],
      "execution_count": null,
      "outputs": []
    },
    {
      "cell_type": "markdown",
      "metadata": {
        "id": "xbtzauK_3VPr"
      },
      "source": [
        "### Calculate Entropy\n"
      ]
    },
    {
      "cell_type": "code",
      "metadata": {
        "id": "y0G7H0Sr3FNR"
      },
      "source": [
        "vector = iris_ma[:,2]"
      ],
      "execution_count": 68,
      "outputs": []
    },
    {
      "cell_type": "code",
      "metadata": {
        "colab": {
          "base_uri": "https://localhost:8080/"
        },
        "id": "faa1t_yv3g-L",
        "outputId": "92691b12-555e-4398-be39-3ac6d3492f65"
      },
      "source": [
        "vector.size"
      ],
      "execution_count": 71,
      "outputs": [
        {
          "output_type": "execute_result",
          "data": {
            "text/plain": [
              "150"
            ]
          },
          "metadata": {
            "tags": []
          },
          "execution_count": 71
        }
      ]
    },
    {
      "cell_type": "code",
      "metadata": {
        "colab": {
          "base_uri": "https://localhost:8080/"
        },
        "id": "8vr4_Dea3nZW",
        "outputId": "dd72429e-92ad-4144-80e4-a88a0101319c"
      },
      "source": [
        "vector"
      ],
      "execution_count": 72,
      "outputs": [
        {
          "output_type": "execute_result",
          "data": {
            "text/plain": [
              "array([1.4, 1.4, 1.3, 1.5, 1.4, 1.7, 1.4, 1.5, 1.4, 1.5, 1.5, 1.6, 1.4,\n",
              "       1.1, 1.2, 1.5, 1.3, 1.4, 1.7, 1.5, 1.7, 1.5, 1.0, 1.7, 1.9, 1.6,\n",
              "       1.6, 1.5, 1.4, 1.6, 1.6, 1.5, 1.5, 1.4, 1.5, 1.2, 1.3, 1.4, 1.3,\n",
              "       1.5, 1.3, 1.3, 1.3, 1.6, 1.9, 1.4, 1.6, 1.4, 1.5, 1.4, 4.7, 4.5,\n",
              "       4.9, 4.0, 4.6, 4.5, 4.7, 3.3, 4.6, 3.9, 3.5, 4.2, 4.0, 4.7, 3.6,\n",
              "       4.4, 4.5, 4.1, 4.5, 3.9, 4.8, 4.0, 4.9, 4.7, 4.3, 4.4, 4.8, 5.0,\n",
              "       4.5, 3.5, 3.8, 3.7, 3.9, 5.1, 4.5, 4.5, 4.7, 4.4, 4.1, 4.0, 4.4,\n",
              "       4.6, 4.0, 3.3, 4.2, 4.2, 4.2, 4.3, 3.0, 4.1, 6.0, 5.1, 5.9, 5.6,\n",
              "       5.8, 6.6, 4.5, 6.3, 5.8, 6.1, 5.1, 5.3, 5.5, 5.0, 5.1, 5.3, 5.5,\n",
              "       6.7, 6.9, 5.0, 5.7, 4.9, 6.7, 4.9, 5.7, 6.0, 4.8, 4.9, 5.6, 5.8,\n",
              "       6.1, 6.4, 5.6, 5.1, 5.6, 6.1, 5.6, 5.5, 4.8, 5.4, 5.6, 5.1, 5.1,\n",
              "       5.9, 5.7, 5.2, 5.0, 5.2, 5.4, 5.1], dtype=object)"
            ]
          },
          "metadata": {
            "tags": []
          },
          "execution_count": 72
        }
      ]
    },
    {
      "cell_type": "code",
      "metadata": {
        "colab": {
          "base_uri": "https://localhost:8080/"
        },
        "id": "6p2TfRlr3p6n",
        "outputId": "cb357b27-adaa-4e54-dfa6-864db7232555"
      },
      "source": [
        "vector.shape"
      ],
      "execution_count": 73,
      "outputs": [
        {
          "output_type": "execute_result",
          "data": {
            "text/plain": [
              "(150,)"
            ]
          },
          "metadata": {
            "tags": []
          },
          "execution_count": 73
        }
      ]
    },
    {
      "cell_type": "code",
      "metadata": {
        "id": "vIavD_3E3rK0"
      },
      "source": [
        "np.unique?"
      ],
      "execution_count": 75,
      "outputs": []
    },
    {
      "cell_type": "code",
      "metadata": {
        "id": "-CNShGL84aLs"
      },
      "source": [
        "value, counts = np.unique(vector, return_counts = True)"
      ],
      "execution_count": 82,
      "outputs": []
    },
    {
      "cell_type": "code",
      "metadata": {
        "id": "yckWqDP75FgW"
      },
      "source": [
        "probabilities  = counts/sum(counts)"
      ],
      "execution_count": 88,
      "outputs": []
    },
    {
      "cell_type": "code",
      "metadata": {
        "colab": {
          "base_uri": "https://localhost:8080/"
        },
        "id": "h1r8xOj45VpO",
        "outputId": "2758702d-e66f-4b24-ef9d-c9ad8ce75a2e"
      },
      "source": [
        "probabilities"
      ],
      "execution_count": 90,
      "outputs": [
        {
          "output_type": "execute_result",
          "data": {
            "text/plain": [
              "array([0.00666667, 0.00666667, 0.01333333, 0.04666667, 0.08666667,\n",
              "       0.08666667, 0.04666667, 0.02666667, 0.01333333, 0.00666667,\n",
              "       0.01333333, 0.01333333, 0.00666667, 0.00666667, 0.00666667,\n",
              "       0.02      , 0.03333333, 0.02      , 0.02666667, 0.01333333,\n",
              "       0.02666667, 0.05333333, 0.02      , 0.03333333, 0.02666667,\n",
              "       0.03333333, 0.02666667, 0.05333333, 0.01333333, 0.01333333,\n",
              "       0.01333333, 0.02      , 0.04      , 0.02      , 0.02      ,\n",
              "       0.01333333, 0.01333333, 0.02      , 0.00666667, 0.00666667,\n",
              "       0.00666667, 0.01333333, 0.00666667])"
            ]
          },
          "metadata": {
            "tags": []
          },
          "execution_count": 90
        }
      ]
    },
    {
      "cell_type": "code",
      "metadata": {
        "colab": {
          "base_uri": "https://localhost:8080/"
        },
        "id": "spytlf265mjs",
        "outputId": "22ec8abc-27ce-4a05-f037-1fe0e4fa7edb"
      },
      "source": [
        "H = 0.\n",
        "for probability in probabilities:\n",
        "  H += (- probability * np.log2(probability))\n",
        "H"
      ],
      "execution_count": 104,
      "outputs": [
        {
          "output_type": "execute_result",
          "data": {
            "text/plain": [
              "5.034569953674173"
            ]
          },
          "metadata": {
            "tags": []
          },
          "execution_count": 104
        }
      ]
    },
    {
      "cell_type": "code",
      "metadata": {
        "colab": {
          "base_uri": "https://localhost:8080/"
        },
        "id": "H6MLSLbB6Wep",
        "outputId": "1457ab04-6d1c-464e-dd55-8f98b5d6e60c"
      },
      "source": [
        "H = -np.sum(probabilities * np.log2(probabilities))\n",
        "H"
      ],
      "execution_count": 102,
      "outputs": [
        {
          "output_type": "execute_result",
          "data": {
            "text/plain": [
              "5.034569953674171"
            ]
          },
          "metadata": {
            "tags": []
          },
          "execution_count": 102
        }
      ]
    },
    {
      "cell_type": "code",
      "metadata": {
        "id": "PPVTwyZ068SP"
      },
      "source": [
        "def calculate_entropy(vector):\n",
        "  value, counts = np.unique(vector, return_counts = True)\n",
        "  probabilities  = counts/sum(counts)\n",
        "  H = -np.sum(probabilities * np.log2(probabilities))\n",
        "  return H"
      ],
      "execution_count": 107,
      "outputs": []
    },
    {
      "cell_type": "code",
      "metadata": {
        "colab": {
          "base_uri": "https://localhost:8080/"
        },
        "id": "sinuoiSW7iDL",
        "outputId": "ebd262a2-98d4-4eb3-a7e8-80167ee8bb08"
      },
      "source": [
        "print(calculate_entropy(iris_ma[:,0]))\n",
        "print(calculate_entropy(iris_ma[:,1]))\n",
        "print(calculate_entropy(iris_ma[:,2]))\n",
        "print(calculate_entropy(iris_ma[:,3]))"
      ],
      "execution_count": 113,
      "outputs": [
        {
          "output_type": "stream",
          "text": [
            "4.822018088381167\n",
            "4.023181025924309\n",
            "5.034569953674171\n",
            "4.0498270903914175\n"
          ],
          "name": "stdout"
        }
      ]
    },
    {
      "cell_type": "code",
      "metadata": {
        "colab": {
          "base_uri": "https://localhost:8080/",
          "height": 282
        },
        "id": "_D7wSQdx8S_d",
        "outputId": "f53aba4b-5287-4012-ace8-49abdb7e2027"
      },
      "source": [
        "entropy_df = pd.DataFrame([\n",
        "  calculate_entropy(iris_ma[:,0]),\n",
        "  calculate_entropy(iris_ma[:,1]),\n",
        "  calculate_entropy(iris_ma[:,2]),\n",
        "  calculate_entropy(iris_ma[:,3]),\n",
        "  calculate_entropy(iris_ma[:,4])\n",
        "])\n",
        "sns.barplot(data = entropy_df)"
      ],
      "execution_count": 127,
      "outputs": [
        {
          "output_type": "execute_result",
          "data": {
            "text/plain": [
              "<matplotlib.axes._subplots.AxesSubplot at 0x7fae5e9efa50>"
            ]
          },
          "metadata": {
            "tags": []
          },
          "execution_count": 127
        },
        {
          "output_type": "display_data",
          "data": {
            "image/png": "[encoded data removed]",
            "text/plain": [
              "<Figure size 432x288 with 1 Axes>"
            ]
          },
          "metadata": {
            "tags": [],
            "needs_background": "light"
          }
        }
      ]
    },
    {
      "cell_type": "markdown",
      "metadata": {
        "id": "WNe296PE-jSl"
      },
      "source": [
        "### Conditinoal Entropy"
      ]
    },
    {
      "cell_type": "code",
      "metadata": {
        "id": "pfE2xyJ29ZlO"
      },
      "source": [
        "x = iris_ma[:,2]"
      ],
      "execution_count": 130,
      "outputs": []
    },
    {
      "cell_type": "code",
      "metadata": {
        "colab": {
          "base_uri": "https://localhost:8080/"
        },
        "id": "Ptts3rdl9riG",
        "outputId": "e70931ef-d1b7-4ac0-ea8a-e284aa4f866b"
      },
      "source": [
        "x"
      ],
      "execution_count": 132,
      "outputs": [
        {
          "output_type": "execute_result",
          "data": {
            "text/plain": [
              "array([1.4, 1.4, 1.3, 1.5, 1.4, 1.7, 1.4, 1.5, 1.4, 1.5, 1.5, 1.6, 1.4,\n",
              "       1.1, 1.2, 1.5, 1.3, 1.4, 1.7, 1.5, 1.7, 1.5, 1.0, 1.7, 1.9, 1.6,\n",
              "       1.6, 1.5, 1.4, 1.6, 1.6, 1.5, 1.5, 1.4, 1.5, 1.2, 1.3, 1.4, 1.3,\n",
              "       1.5, 1.3, 1.3, 1.3, 1.6, 1.9, 1.4, 1.6, 1.4, 1.5, 1.4, 4.7, 4.5,\n",
              "       4.9, 4.0, 4.6, 4.5, 4.7, 3.3, 4.6, 3.9, 3.5, 4.2, 4.0, 4.7, 3.6,\n",
              "       4.4, 4.5, 4.1, 4.5, 3.9, 4.8, 4.0, 4.9, 4.7, 4.3, 4.4, 4.8, 5.0,\n",
              "       4.5, 3.5, 3.8, 3.7, 3.9, 5.1, 4.5, 4.5, 4.7, 4.4, 4.1, 4.0, 4.4,\n",
              "       4.6, 4.0, 3.3, 4.2, 4.2, 4.2, 4.3, 3.0, 4.1, 6.0, 5.1, 5.9, 5.6,\n",
              "       5.8, 6.6, 4.5, 6.3, 5.8, 6.1, 5.1, 5.3, 5.5, 5.0, 5.1, 5.3, 5.5,\n",
              "       6.7, 6.9, 5.0, 5.7, 4.9, 6.7, 4.9, 5.7, 6.0, 4.8, 4.9, 5.6, 5.8,\n",
              "       6.1, 6.4, 5.6, 5.1, 5.6, 6.1, 5.6, 5.5, 4.8, 5.4, 5.6, 5.1, 5.1,\n",
              "       5.9, 5.7, 5.2, 5.0, 5.2, 5.4, 5.1], dtype=object)"
            ]
          },
          "metadata": {
            "tags": []
          },
          "execution_count": 132
        }
      ]
    },
    {
      "cell_type": "code",
      "metadata": {
        "id": "AdQ7CxtI9o1N"
      },
      "source": [
        "y = iris_ma[:,4]"
      ],
      "execution_count": 134,
      "outputs": []
    },
    {
      "cell_type": "code",
      "metadata": {
        "colab": {
          "base_uri": "https://localhost:8080/"
        },
        "id": "Av3A-AwX9yt6",
        "outputId": "dfe57c0a-ea55-4e2f-b55a-8f5827ecedaa"
      },
      "source": [
        "y"
      ],
      "execution_count": 135,
      "outputs": [
        {
          "output_type": "execute_result",
          "data": {
            "text/plain": [
              "array([0, 0, 0, 0, 0, 0, 0, 0, 0, 0, 0, 0, 0, 0, 0, 0, 0, 0, 0, 0, 0, 0,\n",
              "       0, 0, 0, 0, 0, 0, 0, 0, 0, 0, 0, 0, 0, 0, 0, 0, 0, 0, 0, 0, 0, 0,\n",
              "       0, 0, 0, 0, 0, 0, 1, 1, 1, 1, 1, 1, 1, 1, 1, 1, 1, 1, 1, 1, 1, 1,\n",
              "       1, 1, 1, 1, 1, 1, 1, 1, 1, 1, 1, 1, 1, 1, 1, 1, 1, 1, 1, 1, 1, 1,\n",
              "       1, 1, 1, 1, 1, 1, 1, 1, 1, 1, 1, 1, 2, 2, 2, 2, 2, 2, 2, 2, 2, 2,\n",
              "       2, 2, 2, 2, 2, 2, 2, 2, 2, 2, 2, 2, 2, 2, 2, 2, 2, 2, 2, 2, 2, 2,\n",
              "       2, 2, 2, 2, 2, 2, 2, 2, 2, 2, 2, 2, 2, 2, 2, 2, 2, 2], dtype=object)"
            ]
          },
          "metadata": {
            "tags": []
          },
          "execution_count": 135
        }
      ]
    },
    {
      "cell_type": "code",
      "metadata": {
        "colab": {
          "base_uri": "https://localhost:8080/"
        },
        "id": "ml6bVujZ9rMg",
        "outputId": "93e026fc-3567-4629-e5c8-597007b1ed27"
      },
      "source": [
        "x[y == 0]"
      ],
      "execution_count": 133,
      "outputs": [
        {
          "output_type": "execute_result",
          "data": {
            "text/plain": [
              "array([1.4, 1.4, 1.3, 1.5, 1.4, 1.7, 1.4, 1.5, 1.4, 1.5, 1.5, 1.6, 1.4,\n",
              "       1.1, 1.2, 1.5, 1.3, 1.4, 1.7, 1.5, 1.7, 1.5, 1.0, 1.7, 1.9, 1.6,\n",
              "       1.6, 1.5, 1.4, 1.6, 1.6, 1.5, 1.5, 1.4, 1.5, 1.2, 1.3, 1.4, 1.3,\n",
              "       1.5, 1.3, 1.3, 1.3, 1.6, 1.9, 1.4, 1.6, 1.4, 1.5, 1.4],\n",
              "      dtype=object)"
            ]
          },
          "metadata": {
            "tags": []
          },
          "execution_count": 133
        }
      ]
    },
    {
      "cell_type": "code",
      "metadata": {
        "id": "hOgnPDhA9yUe"
      },
      "source": [
        "x_value, x_inverse, x_counts = np.unique(x,return_counts = True, return_inverse=True)\n",
        "y_value, y_inverse, y_counts = np.unique(y,return_counts = True, return_inverse=True)"
      ],
      "execution_count": 146,
      "outputs": []
    },
    {
      "cell_type": "code",
      "metadata": {
        "colab": {
          "base_uri": "https://localhost:8080/"
        },
        "id": "jlgEgkz6_iX_",
        "outputId": "a2d0eef2-7271-4a9a-b0f4-0ce272d5ed31"
      },
      "source": [
        "x_value"
      ],
      "execution_count": 148,
      "outputs": [
        {
          "output_type": "execute_result",
          "data": {
            "text/plain": [
              "array([1.0, 1.1, 1.2, 1.3, 1.4, 1.5, 1.6, 1.7, 1.9, 3.0, 3.3, 3.5, 3.6,\n",
              "       3.7, 3.8, 3.9, 4.0, 4.1, 4.2, 4.3, 4.4, 4.5, 4.6, 4.7, 4.8, 4.9,\n",
              "       5.0, 5.1, 5.2, 5.3, 5.4, 5.5, 5.6, 5.7, 5.8, 5.9, 6.0, 6.1, 6.3,\n",
              "       6.4, 6.6, 6.7, 6.9], dtype=object)"
            ]
          },
          "metadata": {
            "tags": []
          },
          "execution_count": 148
        }
      ]
    },
    {
      "cell_type": "code",
      "metadata": {
        "id": "JIBvjsFI-CPp"
      },
      "source": [
        "x_pro = x_counts / np.sum(x_counts)\n",
        "y_pro = y_counts / np.sum(y_counts)"
      ],
      "execution_count": 143,
      "outputs": []
    },
    {
      "cell_type": "code",
      "metadata": {
        "colab": {
          "base_uri": "https://localhost:8080/"
        },
        "id": "Aab-Cerp-yBe",
        "outputId": "61d2a4e3-624e-4bcd-bc6e-31f8b84bbe9d"
      },
      "source": [
        "x_inverse"
      ],
      "execution_count": 147,
      "outputs": [
        {
          "output_type": "execute_result",
          "data": {
            "text/plain": [
              "array([ 4,  4,  3,  5,  4,  7,  4,  5,  4,  5,  5,  6,  4,  1,  2,  5,  3,\n",
              "        4,  7,  5,  7,  5,  0,  7,  8,  6,  6,  5,  4,  6,  6,  5,  5,  4,\n",
              "        5,  2,  3,  4,  3,  5,  3,  3,  3,  6,  8,  4,  6,  4,  5,  4, 23,\n",
              "       21, 25, 16, 22, 21, 23, 10, 22, 15, 11, 18, 16, 23, 12, 20, 21, 17,\n",
              "       21, 15, 24, 16, 25, 23, 19, 20, 24, 26, 21, 11, 14, 13, 15, 27, 21,\n",
              "       21, 23, 20, 17, 16, 20, 22, 16, 10, 18, 18, 18, 19,  9, 17, 36, 27,\n",
              "       35, 32, 34, 40, 21, 38, 34, 37, 27, 29, 31, 26, 27, 29, 31, 41, 42,\n",
              "       26, 33, 25, 41, 25, 33, 36, 24, 25, 32, 34, 37, 39, 32, 27, 32, 37,\n",
              "       32, 31, 24, 30, 32, 27, 27, 35, 33, 28, 26, 28, 30, 27])"
            ]
          },
          "metadata": {
            "tags": []
          },
          "execution_count": 147
        }
      ]
    },
    {
      "cell_type": "code",
      "metadata": {
        "colab": {
          "base_uri": "https://localhost:8080/"
        },
        "id": "njfaTxR-_j9M",
        "outputId": "ba2110d1-fc1d-4c8c-9226-13bb75412118"
      },
      "source": [
        "y_inverse == 0"
      ],
      "execution_count": 150,
      "outputs": [
        {
          "output_type": "execute_result",
          "data": {
            "text/plain": [
              "array([ True,  True,  True,  True,  True,  True,  True,  True,  True,\n",
              "        True,  True,  True,  True,  True,  True,  True,  True,  True,\n",
              "        True,  True,  True,  True,  True,  True,  True,  True,  True,\n",
              "        True,  True,  True,  True,  True,  True,  True,  True,  True,\n",
              "        True,  True,  True,  True,  True,  True,  True,  True,  True,\n",
              "        True,  True,  True,  True,  True, False, False, False, False,\n",
              "       False, False, False, False, False, False, False, False, False,\n",
              "       False, False, False, False, False, False, False, False, False,\n",
              "       False, False, False, False, False, False, False, False, False,\n",
              "       False, False, False, False, False, False, False, False, False,\n",
              "       False, False, False, False, False, False, False, False, False,\n",
              "       False, False, False, False, False, False, False, False, False,\n",
              "       False, False, False, False, False, False, False, False, False,\n",
              "       False, False, False, False, False, False, False, False, False,\n",
              "       False, False, False, False, False, False, False, False, False,\n",
              "       False, False, False, False, False, False, False, False, False,\n",
              "       False, False, False, False, False, False])"
            ]
          },
          "metadata": {
            "tags": []
          },
          "execution_count": 150
        }
      ]
    },
    {
      "cell_type": "code",
      "metadata": {
        "id": "RRiks-EeAJt6"
      },
      "source": [
        ""
      ],
      "execution_count": null,
      "outputs": []
    },
    {
      "cell_type": "code",
      "metadata": {
        "id": "8vfALalFAITx"
      },
      "source": [
        ""
      ],
      "execution_count": null,
      "outputs": []
    },
    {
      "cell_type": "code",
      "metadata": {
        "id": "BpDRkaXo-0oN"
      },
      "source": [
        "H_x_given_y = 0\n",
        "\n",
        "for y_val_idx in range(len(y_pro)):\n",
        "  x_given_y = x[y_inverse == y_val_idx]\n",
        "  x_given_y_value , x_given_y_counts = np.unique(x_given_y, return_counts= True)\n",
        "  x_given_y_prob = x_given_y_counts / np.sum(x_given_y_counts)\n",
        "  ... \n",
        "  "
      ],
      "execution_count": 153,
      "outputs": []
    },
    {
      "cell_type": "code",
      "metadata": {
        "id": "v34c3Qg0A4Gg"
      },
      "source": [
        ""
      ],
      "execution_count": null,
      "outputs": []
    },
    {
      "cell_type": "code",
      "metadata": {
        "id": "4neDNgxzA0wj"
      },
      "source": [
        ""
      ],
      "execution_count": null,
      "outputs": []
    },
    {
      "cell_type": "code",
      "metadata": {
        "id": "OnGM2gFEAr65"
      },
      "source": [
        ""
      ],
      "execution_count": null,
      "outputs": []
    },
    {
      "cell_type": "code",
      "metadata": {
        "id": "tArnnyrx96ki"
      },
      "source": [
        ""
      ],
      "execution_count": null,
      "outputs": []
    },
    {
      "cell_type": "code",
      "metadata": {
        "id": "fG10PW5X9YaC"
      },
      "source": [
        ""
      ],
      "execution_count": null,
      "outputs": []
    },
    {
      "cell_type": "code",
      "metadata": {
        "id": "0eiDPpwN9U0r"
      },
      "source": [
        ""
      ],
      "execution_count": null,
      "outputs": []
    },
    {
      "cell_type": "code",
      "metadata": {
        "id": "XLbVlsEt9O7X"
      },
      "source": [
        ""
      ],
      "execution_count": null,
      "outputs": []
    },
    {
      "cell_type": "code",
      "metadata": {
        "id": "NEjrPJPs9OGl"
      },
      "source": [
        ""
      ],
      "execution_count": null,
      "outputs": []
    },
    {
      "cell_type": "code",
      "metadata": {
        "id": "sSz2bBGE9MOU"
      },
      "source": [
        "\n"
      ],
      "execution_count": null,
      "outputs": []
    },
    {
      "cell_type": "code",
      "metadata": {
        "id": "GOpZQqha9Eyh"
      },
      "source": [
        ""
      ],
      "execution_count": null,
      "outputs": []
    },
    {
      "cell_type": "code",
      "metadata": {
        "id": "ViKwJEa99DAY"
      },
      "source": [
        ""
      ],
      "execution_count": null,
      "outputs": []
    },
    {
      "cell_type": "code",
      "metadata": {
        "id": "fKveHrNQ88Ta"
      },
      "source": [
        ""
      ],
      "execution_count": null,
      "outputs": []
    },
    {
      "cell_type": "code",
      "metadata": {
        "id": "zPXuTCaT809a"
      },
      "source": [
        ""
      ],
      "execution_count": null,
      "outputs": []
    },
    {
      "cell_type": "code",
      "metadata": {
        "id": "-Z7nAFKg8zFN"
      },
      "source": [
        ""
      ],
      "execution_count": null,
      "outputs": []
    },
    {
      "cell_type": "code",
      "metadata": {
        "id": "kvjvlXHC8wSS"
      },
      "source": [
        ""
      ],
      "execution_count": null,
      "outputs": []
    },
    {
      "cell_type": "code",
      "metadata": {
        "id": "vlytXiVr8ren"
      },
      "source": [
        ""
      ],
      "execution_count": null,
      "outputs": []
    },
    {
      "cell_type": "code",
      "metadata": {
        "id": "mtSF1q4N8nmv"
      },
      "source": [
        ""
      ],
      "execution_count": null,
      "outputs": []
    },
    {
      "cell_type": "code",
      "metadata": {
        "id": "MMbefAjh8PG7"
      },
      "source": [
        ""
      ],
      "execution_count": null,
      "outputs": []
    },
    {
      "cell_type": "code",
      "metadata": {
        "id": "lWMXuBfz8MOC"
      },
      "source": [
        ""
      ],
      "execution_count": null,
      "outputs": []
    },
    {
      "cell_type": "code",
      "metadata": {
        "id": "TCiiJ1yH8JX8"
      },
      "source": [
        ""
      ],
      "execution_count": null,
      "outputs": []
    },
    {
      "cell_type": "code",
      "metadata": {
        "id": "b9jqgmlK8DdU"
      },
      "source": [
        ""
      ],
      "execution_count": null,
      "outputs": []
    },
    {
      "cell_type": "code",
      "metadata": {
        "id": "-VURDuAl7jYm"
      },
      "source": [
        ""
      ],
      "execution_count": null,
      "outputs": []
    },
    {
      "cell_type": "code",
      "metadata": {
        "id": "4aVkq-j2667j"
      },
      "source": [
        ""
      ],
      "execution_count": null,
      "outputs": []
    },
    {
      "cell_type": "code",
      "metadata": {
        "id": "WDN6dcoa66Eo"
      },
      "source": [
        ""
      ],
      "execution_count": null,
      "outputs": []
    },
    {
      "cell_type": "code",
      "metadata": {
        "id": "mjRqV28m6cm3"
      },
      "source": [
        ""
      ],
      "execution_count": null,
      "outputs": []
    },
    {
      "cell_type": "code",
      "metadata": {
        "id": "buxNgowE6PLH"
      },
      "source": [
        ""
      ],
      "execution_count": null,
      "outputs": []
    },
    {
      "cell_type": "code",
      "metadata": {
        "id": "UJ2ne86a6M3T"
      },
      "source": [
        ""
      ],
      "execution_count": null,
      "outputs": []
    },
    {
      "cell_type": "code",
      "metadata": {
        "id": "cFfoEA6_5AMD"
      },
      "source": [
        ""
      ],
      "execution_count": null,
      "outputs": []
    },
    {
      "cell_type": "code",
      "metadata": {
        "id": "t628FHla49KE"
      },
      "source": [
        ""
      ],
      "execution_count": null,
      "outputs": []
    },
    {
      "cell_type": "code",
      "metadata": {
        "id": "3nvVpOKl48iu"
      },
      "source": [
        ""
      ],
      "execution_count": null,
      "outputs": []
    },
    {
      "cell_type": "code",
      "metadata": {
        "id": "urBGKUz34YTm"
      },
      "source": [
        ""
      ],
      "execution_count": null,
      "outputs": []
    },
    {
      "cell_type": "code",
      "metadata": {
        "id": "VYfxWFP83n9H"
      },
      "source": [
        ""
      ],
      "execution_count": null,
      "outputs": []
    },
    {
      "cell_type": "code",
      "metadata": {
        "id": "e8gqdnKn3i_L"
      },
      "source": [
        ""
      ],
      "execution_count": null,
      "outputs": []
    },
    {
      "cell_type": "code",
      "metadata": {
        "id": "W5KSXsCQ28zR"
      },
      "source": [
        ""
      ],
      "execution_count": null,
      "outputs": []
    },
    {
      "cell_type": "code",
      "metadata": {
        "id": "5mP_Ggl125IB"
      },
      "source": [
        ""
      ],
      "execution_count": null,
      "outputs": []
    },
    {
      "cell_type": "code",
      "metadata": {
        "id": "fCgkZiOk2eeA"
      },
      "source": [
        ""
      ],
      "execution_count": null,
      "outputs": []
    },
    {
      "cell_type": "code",
      "metadata": {
        "id": "JXx2x2jy2cUX"
      },
      "source": [
        ""
      ],
      "execution_count": null,
      "outputs": []
    },
    {
      "cell_type": "code",
      "metadata": {
        "id": "0A7hb_UC2bJW"
      },
      "source": [
        ""
      ],
      "execution_count": null,
      "outputs": []
    },
    {
      "cell_type": "code",
      "metadata": {
        "id": "-6Y5g1N42VUU"
      },
      "source": [
        ""
      ],
      "execution_count": null,
      "outputs": []
    },
    {
      "cell_type": "code",
      "metadata": {
        "id": "eYSCoG7P2Ss8"
      },
      "source": [
        ""
      ],
      "execution_count": null,
      "outputs": []
    },
    {
      "cell_type": "code",
      "metadata": {
        "id": "sJfppW4-2Pm0"
      },
      "source": [
        ""
      ],
      "execution_count": null,
      "outputs": []
    },
    {
      "cell_type": "code",
      "metadata": {
        "id": "-P87IUqy2OIZ"
      },
      "source": [
        ""
      ],
      "execution_count": null,
      "outputs": []
    },
    {
      "cell_type": "code",
      "metadata": {
        "id": "-VS-C79J2Kl-"
      },
      "source": [
        ""
      ],
      "execution_count": null,
      "outputs": []
    },
    {
      "cell_type": "code",
      "metadata": {
        "id": "czNaCJvw1t81"
      },
      "source": [
        ""
      ],
      "execution_count": null,
      "outputs": []
    },
    {
      "cell_type": "code",
      "metadata": {
        "id": "p7YsGlrt1K7T"
      },
      "source": [
        ""
      ],
      "execution_count": null,
      "outputs": []
    },
    {
      "cell_type": "code",
      "metadata": {
        "id": "l42beLQT0tDq"
      },
      "source": [
        ""
      ],
      "execution_count": null,
      "outputs": []
    },
    {
      "cell_type": "code",
      "metadata": {
        "id": "BjfLAQXD0mZ4"
      },
      "source": [
        ""
      ],
      "execution_count": null,
      "outputs": []
    },
    {
      "cell_type": "code",
      "metadata": {
        "id": "464eUNR90gpe"
      },
      "source": [
        ""
      ],
      "execution_count": null,
      "outputs": []
    },
    {
      "cell_type": "code",
      "metadata": {
        "id": "IWuvUBxe0EsI"
      },
      "source": [
        ""
      ],
      "execution_count": null,
      "outputs": []
    },
    {
      "cell_type": "code",
      "metadata": {
        "id": "mfcCQs-Pz1Z5"
      },
      "source": [
        ""
      ],
      "execution_count": null,
      "outputs": []
    },
    {
      "cell_type": "code",
      "metadata": {
        "id": "nB-VC9OezzL1"
      },
      "source": [
        ""
      ],
      "execution_count": null,
      "outputs": []
    },
    {
      "cell_type": "code",
      "metadata": {
        "id": "ZZKMdErRzyhA"
      },
      "source": [
        ""
      ],
      "execution_count": null,
      "outputs": []
    },
    {
      "cell_type": "code",
      "metadata": {
        "id": "xz2e7o4qznC1"
      },
      "source": [
        ""
      ],
      "execution_count": null,
      "outputs": []
    },
    {
      "cell_type": "code",
      "metadata": {
        "id": "AxLLt_v9zlVn"
      },
      "source": [
        ""
      ],
      "execution_count": null,
      "outputs": []
    },
    {
      "cell_type": "code",
      "metadata": {
        "id": "VddhtCaazf1f"
      },
      "source": [
        ""
      ],
      "execution_count": null,
      "outputs": []
    },
    {
      "cell_type": "code",
      "metadata": {
        "id": "fvt9F1AYzepU"
      },
      "source": [
        ""
      ],
      "execution_count": null,
      "outputs": []
    },
    {
      "cell_type": "code",
      "metadata": {
        "id": "GnM7RoaUzcg1"
      },
      "source": [
        ""
      ],
      "execution_count": null,
      "outputs": []
    },
    {
      "cell_type": "code",
      "metadata": {
        "id": "yUydhTTkysOX"
      },
      "source": [
        ""
      ],
      "execution_count": null,
      "outputs": []
    }
  ]
}